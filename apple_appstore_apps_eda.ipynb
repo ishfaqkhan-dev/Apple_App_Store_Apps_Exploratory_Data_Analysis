{
 "cells": [
  {
   "cell_type": "markdown",
   "id": "5889f2d8",
   "metadata": {},
   "source": [
    "# **EDA - Apple AppStore Apps Analysis**\n",
    "### Dataset Size: 1.2 Million Records\n"
   ]
  },
  {
   "cell_type": "markdown",
   "id": "e4e7d055",
   "metadata": {},
   "source": [
    "Name : Muhammad Ishfaq Khan \\\n",
    "Email : ishfaqkhan.dev@gmail.com \\\n",
    "GitHub : [ishfaqkhan-dev](https://github.com/ishfaqkhan-dev) \\\n",
    "LinkedIn : https://www.linkedin.com/in/muhammad-ishfaq-khan-666b27370 \\\n",
    "Kaggle : [ishfaqkhandev](https://www.kaggle.com/ishfaqkhandev) \\\n",
    "Twitter : [@ishfaqkhan_dev](https://x.com/ishfaqkhan_dev) "
   ]
  },
  {
   "cell_type": "markdown",
   "id": "d2397b11",
   "metadata": {},
   "source": [
    "## **Collaborator**\n",
    "This analysis was done in collaboration with [@shumailakhan](https://www.kaggle.com/shumailakhan).\n",
    "\n"
   ]
  },
  {
   "cell_type": "markdown",
   "id": "a6f146a9",
   "metadata": {},
   "source": [
    "## **Introduction**\n",
    "\n",
    "The Apple App Store hosts over a million iOS applications across diverse categories such as games, education, lifestyle, productivity, and more. Understanding how these apps perform, what factors affect their ratings, and which app types dominate the platform can offer valuable insights for developers, analysts, and business strategists.\n",
    "\n",
    "In this notebook, I will explore the **Apple App Store dataset** (1.2 million+ apps) to:\n",
    "\n",
    "- Analyze app ratings, reviews, and pricing trends.  \n",
    "- Understand category-wise distribution and popularity.  \n",
    "- Identify top-performing apps based on ratings and downloads.  \n",
    "- Detect patterns in app sizes, in-app purchases, and developer presence.  \n",
    "- Clean, preprocess, and visualize the data for meaningful interpretation.\n",
    "\n"
   ]
  },
  {
   "cell_type": "markdown",
   "id": "0a57fddd",
   "metadata": {},
   "source": [
    "## **Dataset Overview**\n",
    "\n",
    "The dataset was collected in **October 2021** using a Python-based Scrapy script and made publicly available by **Gautham Prakash**.\n",
    "\n",
    "🔗 [Apple App Store Dataset](https://www.kaggle.com/datasets/gauthamp10/apple-appstore-apps)\n",
    "\n",
    "This dataset contains detailed information about more than 1.2 million iOS applications from the Apple App Store. Each row represents a unique app, and the data spans a wide range of fields that give us a deep look into the app ecosystem.\n",
    "\n",
    "There are 21 columns in total, covering things like app IDs, developer details, pricing, user ratings, update history, and more. For example, we can find out when an app was released or last updated, how big the app is in bytes, what iOS version it requires, and whether it’s free or paid.\n",
    "\n",
    "What makes this dataset even more interesting is that it includes both overall and current version ratings, along with review counts. This gives us a chance to compare how apps are performing over time. The presence of developer websites and profile links also allows us to look into developer-level activity and app publishing trends.\n",
    "\n",
    "Overall, it’s a large and well-structured dataset that offers plenty of opportunities for meaningful analysis, especially if you’re curious about how apps are built, maintained, and received by users.\n"
   ]
  },
  {
   "cell_type": "markdown",
   "id": "63092e69",
   "metadata": {},
   "source": [
    "---\n",
    "\n",
    "## **Getting Started**  \n",
    "We begin by loading the dataset and importing the libraries we’ll use."
   ]
  },
  {
   "cell_type": "code",
   "execution_count": null,
   "id": "19370058",
   "metadata": {},
   "outputs": [],
   "source": [
    "# import necessary libraries\n",
    "import pandas as pd\n",
    "import numpy as np\n",
    "import matplotlib.pyplot as plt\n",
    "%matplotlib inline\n",
    "import seaborn as sns\n",
    "import warnings \n",
    "warnings.filterwarnings('ignore')\n"
   ]
  },
  {
   "cell_type": "code",
   "execution_count": null,
   "id": "cd8afa65",
   "metadata": {},
   "outputs": [],
   "source": [
    "# load the dataset\n",
    "df = pd.read_csv('../kaggle_datasets/appleAppData.csv')"
   ]
  },
  {
   "cell_type": "markdown",
   "id": "c3e2d076",
   "metadata": {},
   "source": [
    "## **Checking the Size of the Data**  \n",
    "Let’s see how many rows and columns are in the dataset."
   ]
  },
  {
   "cell_type": "code",
   "execution_count": null,
   "id": "ed1e8e08",
   "metadata": {},
   "outputs": [],
   "source": [
    "df.shape"
   ]
  },
  {
   "cell_type": "markdown",
   "id": "571a0161",
   "metadata": {},
   "source": [
    "## **Looking at Column Types**  \n",
    "We check what kind of data each column has, like numbers or text."
   ]
  },
  {
   "cell_type": "code",
   "execution_count": null,
   "id": "7627b77c",
   "metadata": {},
   "outputs": [],
   "source": [
    "df.info()"
   ]
  },
  {
   "cell_type": "markdown",
   "id": "c0939510",
   "metadata": {},
   "source": [
    "## **Viewing the First Few Rows**  \n",
    "This helps us see how the data looks at the start."
   ]
  },
  {
   "cell_type": "code",
   "execution_count": null,
   "id": "b87f4be5",
   "metadata": {},
   "outputs": [],
   "source": [
    "df.head()"
   ]
  },
  {
   "cell_type": "markdown",
   "id": "47e6e585",
   "metadata": {},
   "source": [
    "## **Converting Date Columns**\n",
    "\n",
    "The `Released` and `Updated` columns contain dates, but they are stored as text. To use them in time-based analysis, we need to convert them into datetime format.\n"
   ]
  },
  {
   "cell_type": "code",
   "execution_count": null,
   "id": "fa1edae4",
   "metadata": {},
   "outputs": [],
   "source": [
    "# Convert 'Released' and 'Updated' columns to datetime format\n",
    "df['Released'] = pd.to_datetime(df['Released'], errors='coerce')\n",
    "df['Updated'] = pd.to_datetime(df['Updated'], errors='coerce')\n"
   ]
  },
  {
   "cell_type": "markdown",
   "id": "991d56de",
   "metadata": {},
   "source": [
    "## **Exploring Required_IOS_Version Column**\n",
    "\n",
    "Before cleaning the `Required_IOS_Version` column, let’s check what kind of values it contains. This will help us decide how to clean and convert it properly.\n"
   ]
  },
  {
   "cell_type": "code",
   "execution_count": null,
   "id": "7e5fdcf7",
   "metadata": {},
   "outputs": [],
   "source": [
    "# Check unique values in the Required_IOS_Version column\n",
    "df['Required_IOS_Version'].unique()\n"
   ]
  },
  {
   "cell_type": "markdown",
   "id": "a8405b74",
   "metadata": {},
   "source": [
    "## **Cleaning iOS Version Requirements**\n",
    "\n",
    "The `Required_IOS_Version` column has many different version formats. Some are simple like `10.0` and `12.1`, while others are longer like `10.15.6` or `11.24`. To make this column easier to analyze, we'll extract just the first two parts (major and minor version) and convert them to float.\n"
   ]
  },
  {
   "cell_type": "code",
   "execution_count": null,
   "id": "bcfd7031",
   "metadata": {},
   "outputs": [],
   "source": [
    "# Extract major.minor version only (e.g., 13.2 from 13.2.1 or 13.2.99)\n",
    "df['Required_IOS_Version'] = df['Required_IOS_Version'].str.extract(r'(\\d+\\.\\d+)')\n",
    "\n",
    "# Convert to float\n",
    "df['Required_IOS_Version'] = pd.to_numeric(df['Required_IOS_Version'], errors='coerce')\n"
   ]
  },
  {
   "cell_type": "markdown",
   "id": "2d42d7e7",
   "metadata": {},
   "source": [
    "## **Rechecking Data After Cleaning**\n",
    "\n",
    "Now that we’ve fixed the date and version columns, let’s check if everything looks good. We’ll use `.info()` to review data types, check for missing values again, and generate a summary of the numeric columns to make sure everything is in place.\n"
   ]
  },
  {
   "cell_type": "code",
   "execution_count": null,
   "id": "15879731",
   "metadata": {},
   "outputs": [],
   "source": [
    "# Recheck data types and non-null counts\n",
    "df.info()\n"
   ]
  },
  {
   "cell_type": "markdown",
   "id": "09dc6d80",
   "metadata": {},
   "source": [
    "## **Checking for Missing Values and Summary**\n",
    "\n",
    "Before we move forward, it’s important to see if our dataset has any missing data. We’ll also look at a basic statistical summary to understand the overall distribution of the numeric columns.\n"
   ]
  },
  {
   "cell_type": "code",
   "execution_count": null,
   "id": "84d5167f",
   "metadata": {},
   "outputs": [],
   "source": [
    "# Check how many values are missing in each column\n",
    "df.isnull().sum().sort_values(ascending=False)\n"
   ]
  },
  {
   "cell_type": "code",
   "execution_count": null,
   "id": "a7a73d52",
   "metadata": {},
   "outputs": [],
   "source": [
    "# Get summary of all numeric columns\n",
    "df.describe()\n"
   ]
  },
  {
   "cell_type": "markdown",
   "id": "141ed80a",
   "metadata": {},
   "source": [
    "### **Handling Developer ID Column**\n",
    "\n",
    "The `DeveloperId` column is numeric, but it acts as an identifier for each developer. It doesn’t carry analytical meaning like average or distribution. So we won’t use it in statistical summaries, but we’ll keep it in the dataset in case we need to group apps by developer later.\n",
    "\n",
    "> **Note:** This column may still appear in numeric summaries (like `df.describe()`), but we will simply ignore it during analysis because it has no statistical value.\n"
   ]
  },
  {
   "cell_type": "markdown",
   "id": "bda6df70",
   "metadata": {},
   "source": [
    "## **Missing Values Analysis**\n",
    "\n",
    "We identified several columns with missing values. Some of them are optional (like `Developer_Website, Developer_Url`) and can be ignored. Others like `Price`, `Size_Bytes`, and `Required_IOS_Version` are important and need to be handled.\n",
    "\n",
    "We'll decide case-by-case whether to fill, drop, or leave them as they are.\n"
   ]
  },
  {
   "cell_type": "markdown",
   "id": "ef600c61",
   "metadata": {},
   "source": [
    "### **Filling Missing Values**\n",
    "\n",
    "To prepare our data for analysis, we filled missing values based on the type and importance of each column:\n",
    "\n",
    "- `Required_IOS_Version`: Filled with the average iOS version required by apps.\n",
    "- `Price`: If the app is marked as free, we set the price to 0. Otherwise, we used the average price of paid apps.\n",
    "- `Size_Bytes`: Filled with the median value since size varies a lot and median is less affected by extreme values.\n"
   ]
  },
  {
   "cell_type": "code",
   "execution_count": null,
   "id": "17b99e2c",
   "metadata": {},
   "outputs": [],
   "source": [
    "# Fill missing Required_IOS_Version with mean\n",
    "mean_ios_version = df['Required_IOS_Version'].mean()\n",
    "df['Required_IOS_Version'].fillna(mean_ios_version, inplace=True)\n",
    "\n",
    "# Fill missing Price\n",
    "# If Free == True, set Price = 0. Otherwise, use mean of paid apps\n",
    "mean_paid_price = df.loc[df['Free'] == False, 'Price'].mean()\n",
    "df['Price'] = df.apply(\n",
    "    lambda row: 0 if pd.isna(row['Price']) and row['Free'] else row['Price'], axis=1\n",
    ")\n",
    "df['Price'] = df['Price'].fillna(mean_paid_price)\n",
    "\n",
    "# Fill missing Size_Bytes with median\n",
    "median_size = df['Size_Bytes'].median()\n",
    "df['Size_Bytes'].fillna(median_size, inplace=True)\n"
   ]
  },
  {
   "cell_type": "markdown",
   "id": "c9a42cbd",
   "metadata": {},
   "source": [
    "### **Handling Remaining Missing Values**\n",
    "\n",
    "To finalize the missing value treatment:\n",
    "\n",
    "- We dropped the few rows where either `App_Name` or `Released` was missing since they are essential fields.\n",
    "- For optional but useful fields like `Developer_Url` and `Developer_Website`, we filled the missing values with `\"Not Provided\"` to retain the columns for reference.\n"
   ]
  },
  {
   "cell_type": "code",
   "execution_count": null,
   "id": "967b9b66",
   "metadata": {},
   "outputs": [],
   "source": [
    "# Drop rows with missing App_Name or Released date\n",
    "df.dropna(subset=['App_Name', 'Released'], inplace=True)\n",
    "\n",
    "# Fill Developer_Url and Developer_Website with \"Not Provided\"\n",
    "df['Developer_Url'].fillna(\"Not Provided\", inplace=True)\n",
    "df['Developer_Website'].fillna(\"Not Provided\", inplace=True)\n"
   ]
  },
  {
   "cell_type": "markdown",
   "id": "93ad19b2",
   "metadata": {},
   "source": [
    "### **Final Check for Missing Values**\n",
    "\n",
    "After filling and dropping the necessary columns, we’ll now recheck the dataset to confirm that there are no remaining missing values.\n"
   ]
  },
  {
   "cell_type": "code",
   "execution_count": null,
   "id": "696c906d",
   "metadata": {},
   "outputs": [],
   "source": [
    "# Check again for any missing values\n",
    "df.isnull().sum().sort_values(ascending=False)\n"
   ]
  },
  {
   "cell_type": "markdown",
   "id": "30c5dc04",
   "metadata": {},
   "source": [
    "## **Dataset Recheck Before Univariate Analysis**\n",
    "\n",
    "Before we dive into univariate analysis, it's a good idea to double-check the current state of our dataset. We'll review:\n",
    "\n",
    "- The overall shape (number of rows and columns).\n",
    "- The data types of each column.\n",
    "- Whether there are any remaining null values.\n",
    "\n",
    "This quick check ensures our dataset is properly structured and ready for accurate visualizations and insights.\n"
   ]
  },
  {
   "cell_type": "code",
   "execution_count": null,
   "id": "130fb292",
   "metadata": {},
   "outputs": [],
   "source": [
    "# Check the current shape of the dataset\n",
    "print(\"Dataset Shape:\", df.shape)\n",
    "\n",
    "# Check data types and null values\n",
    "df.info()\n"
   ]
  },
  {
   "cell_type": "markdown",
   "id": "eefa6146",
   "metadata": {},
   "source": [
    "\"Now that the dataset has been cleaned and preprocessed (missing values handled, outliers capped or removed, and datatypes corrected), we can move forward to explore it visually and statistically.\""
   ]
  },
  {
   "cell_type": "markdown",
   "id": "65ab1f13",
   "metadata": {},
   "source": [
    "## **Univariate Analysis**\n",
    "\n",
    "In this section, we will explore each individual column from the dataset to understand its distribution, value types, and patterns. Since we have only handled missing values and not dealt with outliers, the analysis reflects the natural state of the data.\n",
    "\n",
    "We'll begin with some numerical columns to observe how values are distributed, identify any unusual patterns, and summarize key statistics.\n",
    "\n"
   ]
  },
  {
   "cell_type": "markdown",
   "id": "3bf138bb",
   "metadata": {},
   "source": [
    "### **Primary Genre**\n",
    "\n",
    "The `Primary_Genre` column represents the main category under which an app is listed in the App Store, such as Games, Productivity, Education, etc. Exploring this helps us understand which categories are most common and which are less frequent.\n"
   ]
  },
  {
   "cell_type": "code",
   "execution_count": null,
   "id": "48687ec2",
   "metadata": {},
   "outputs": [],
   "source": [
    "# Count of apps by genre\n",
    "plt.figure(figsize=(12, 5))\n",
    "df['Primary_Genre'].value_counts().head(20).plot(kind='bar')\n",
    "plt.title('Top 20 Most Common App Genres')\n",
    "plt.xlabel('Primary Genre')\n",
    "plt.ylabel('Number of Apps')\n",
    "plt.xticks(rotation=45)\n",
    "plt.show()\n",
    "\n",
    "# Unique genres\n",
    "print(\"Number of unique genres:\", df['Primary_Genre'].nunique())\n",
    "print(df['Primary_Genre'].value_counts().head())\n"
   ]
  },
  {
   "cell_type": "markdown",
   "id": "e365635a",
   "metadata": {},
   "source": [
    "### **Content Rating**\n",
    "\n",
    "The `Content_Rating` column shows the age group suitability of an app (like 4+, 9+, 12+, etc.). Analyzing this helps us identify which age group most apps target.\n"
   ]
  },
  {
   "cell_type": "code",
   "execution_count": null,
   "id": "ddeecb14",
   "metadata": {},
   "outputs": [],
   "source": [
    "# Count of apps by content rating\n",
    "plt.figure(figsize=(8, 4))\n",
    "df['Content_Rating'].value_counts().plot(kind='bar', color='skyblue')\n",
    "plt.title('App Count by Content Rating')\n",
    "plt.xlabel('Content Rating')\n",
    "plt.ylabel('Number of Apps')\n",
    "plt.xticks(rotation=0)\n",
    "plt.show()\n",
    "\n",
    "# Unique content ratings\n",
    "print(\"Content Rating Distribution:\")\n",
    "print(df['Content_Rating'].value_counts())\n"
   ]
  },
  {
   "cell_type": "markdown",
   "id": "21f2967b",
   "metadata": {},
   "source": [
    "### **App Size (Bytes)**\n",
    "\n",
    "The `Size_Bytes` column contains the size of the app in bytes. We will analyze how app sizes are distributed across the dataset, from small lightweight apps to very large ones.\n"
   ]
  },
  {
   "cell_type": "code",
   "execution_count": null,
   "id": "f1787604",
   "metadata": {},
   "outputs": [],
   "source": [
    "# Convert bytes to megabytes for better readability\n",
    "df['Size_MB'] = df['Size_Bytes'] / (1024 * 1024)\n",
    "\n",
    "# Histogram of app sizes\n",
    "plt.figure(figsize=(10, 4))\n",
    "sns.histplot(df['Size_MB'], bins=100, kde=True, color='green')\n",
    "plt.title('Distribution of App Sizes (in MB)')\n",
    "plt.xlabel('Size (MB)')\n",
    "plt.ylabel('Number of Apps')\n",
    "plt.show()\n",
    "\n",
    "# Basic stats\n",
    "print(df['Size_MB'].describe())\n"
   ]
  },
  {
   "cell_type": "markdown",
   "id": "d6974fdf",
   "metadata": {},
   "source": [
    "### **Handling Unrealistic App Sizes**\n",
    "\n",
    "Some apps in the dataset show unusually large file sizes, going well beyond the expected range for typical mobile applications. While most iOS apps are under 2 GB in size, a few entries in the dataset exceed 3 GB, which is likely due to data errors or scraping anomalies.\n",
    "\n",
    "To maintain data quality and avoid skewing the analysis, we will cap the app size at a maximum of **3 GB (3 * 1024^3 bytes)**. This ensures that extremely large outliers do not distort visualizations or statistical summaries.\n"
   ]
  },
  {
   "cell_type": "code",
   "execution_count": null,
   "id": "26262f44",
   "metadata": {},
   "outputs": [],
   "source": [
    "# Define 3 GB in bytes\n",
    "max_app_size_bytes = 3 * 1024 * 1024 * 1024  # 3 GB = 3,221,225,472 bytes\n",
    "\n",
    "# Cap sizes greater than 3 GB to the maximum valid size\n",
    "df.loc[df['Size_Bytes'] > max_app_size_bytes, 'Size_Bytes'] = max_app_size_bytes\n"
   ]
  },
  {
   "cell_type": "code",
   "execution_count": null,
   "id": "0fd1bfb7",
   "metadata": {},
   "outputs": [],
   "source": [
    "# Convert bytes to MB\n",
    "df['Size_MB'] = df['Size_Bytes'] / (1024 * 1024)\n",
    "\n",
    "# Plot histogram\n",
    "plt.figure(figsize=(10, 5))\n",
    "sns.histplot(df['Size_MB'], bins=100, kde=True, color='teal')\n",
    "plt.title('Adjusted Distribution of App Sizes (in MB)')\n",
    "plt.xlabel('App Size (MB)')\n",
    "plt.ylabel('Number of Apps')\n",
    "plt.grid(True)\n",
    "plt.show()\n"
   ]
  },
  {
   "cell_type": "code",
   "execution_count": null,
   "id": "d682ee0a",
   "metadata": {},
   "outputs": [],
   "source": [
    "df['Size_MB'].describe()"
   ]
  },
  {
   "cell_type": "markdown",
   "id": "2c9b11d8",
   "metadata": {},
   "source": [
    "**Note:** Some app sizes were unrealistically high (e.g., above 50 GB). To keep the data clean and meaningful, I capped the sizes at 3 GB (3072 MB).\n"
   ]
  },
  {
   "cell_type": "markdown",
   "id": "43f78f89",
   "metadata": {},
   "source": [
    "### **Required iOS Version**\n",
    "\n",
    "This column shows the minimum iOS version required to run the app. By analyzing this, we can understand how modern or outdated most apps are in terms of compatibility.\n"
   ]
  },
  {
   "cell_type": "code",
   "execution_count": null,
   "id": "4744984e",
   "metadata": {},
   "outputs": [],
   "source": [
    "# Count of unique required iOS versions\n",
    "plt.figure(figsize=(12, 5))\n",
    "df['Required_IOS_Version'].value_counts().head(20).plot(kind='bar', color='orange')\n",
    "plt.title('Top 20 Required iOS Versions')\n",
    "plt.xlabel('iOS Version')\n",
    "plt.ylabel('Number of Apps')\n",
    "plt.xticks(rotation=45)\n",
    "plt.show()\n",
    "\n",
    "print(\"Unique iOS Versions:\", df['Required_IOS_Version'].nunique())\n"
   ]
  },
  {
   "cell_type": "markdown",
   "id": "00c43a90",
   "metadata": {},
   "source": [
    "### **Price**\n",
    "\n",
    "The `Price` column represents how much users must pay to download the app. Most apps are free, but some have a price tag. We'll analyze the distribution of prices to understand how many apps are paid and how expensive they can get.\n"
   ]
  },
  {
   "cell_type": "code",
   "execution_count": null,
   "id": "e8920c71",
   "metadata": {},
   "outputs": [],
   "source": [
    "# Distribution of app prices\n",
    "plt.figure(figsize=(10, 5))\n",
    "sns.histplot(df['Price'], bins=50, kde=True)\n",
    "plt.title('Distribution of App Prices')\n",
    "plt.xlabel('Price ($)')\n",
    "plt.ylabel('Number of Apps')\n",
    "plt.show()\n",
    "\n",
    "# Descriptive stats\n",
    "print(df['Price'].describe())\n"
   ]
  },
  {
   "cell_type": "markdown",
   "id": "369b96c7",
   "metadata": {},
   "source": [
    "### **Handling Outliers in Price**\n",
    "\n",
    "Some apps in the dataset have extremely high prices, going up to $999.99, which is not practical for regular app purchases. To make the analysis meaningful and avoid distortion in graphs, we capped all prices at $100. This keeps the data realistic without losing important trends.\n"
   ]
  },
  {
   "cell_type": "code",
   "execution_count": null,
   "id": "64584891",
   "metadata": {},
   "outputs": [],
   "source": [
    "# Apply outlier handling only on paid apps\n",
    "paid_mask = df['Free'] == False\n",
    "\n",
    "# Calculate IQR only on paid apps\n",
    "Q1 = df.loc[paid_mask, 'Price'].quantile(0.25)\n",
    "Q3 = df.loc[paid_mask, 'Price'].quantile(0.75)\n",
    "IQR = Q3 - Q1\n",
    "\n",
    "lower_bound = Q1 - 1.5 * IQR\n",
    "upper_bound = Q3 + 1.5 * IQR\n",
    "\n",
    "# Clip only the paid apps' prices\n",
    "df.loc[paid_mask, 'Price'] = df.loc[paid_mask, 'Price'].clip(lower=lower_bound, upper=upper_bound)\n",
    "\n"
   ]
  },
  {
   "cell_type": "markdown",
   "id": "cf9fb081",
   "metadata": {},
   "source": [
    "### **Price (Paid Apps)**\n",
    "Paid apps often have a wide price range. We filtered the dataset to include only paid apps and analyzed the price distribution using boxplots and summary statistics."
   ]
  },
  {
   "cell_type": "code",
   "execution_count": null,
   "id": "cce054ee",
   "metadata": {},
   "outputs": [],
   "source": [
    "# Boxplot for paid apps\n",
    "plt.figure(figsize=(10, 4))\n",
    "sns.boxplot(x=df[df['Free'] == False]['Price'], color='orange')\n",
    "plt.title('Price Distribution - Paid Apps')\n",
    "plt.xlabel('Price ($)')\n",
    "plt.show()\n",
    "\n",
    "# Summary stats for paid apps\n",
    "df[df['Free'] == False]['Price'].describe()\n"
   ]
  },
  {
   "cell_type": "markdown",
   "id": "dd30bf8f",
   "metadata": {},
   "source": [
    "### **Free Column**\n",
    "This column indicates whether an app is free or paid. It is a boolean field, useful for categorizing apps for further analysis."
   ]
  },
  {
   "cell_type": "code",
   "execution_count": null,
   "id": "9be2d33a",
   "metadata": {},
   "outputs": [],
   "source": [
    "# Count of Free vs Paid\n",
    "plt.figure(figsize=(5, 3))\n",
    "sns.countplot(x='Free', data=df, palette='Set2')\n",
    "plt.title('Distribution of Free vs Paid Apps')\n",
    "plt.xlabel('Free App (True = Free, False = Paid)')\n",
    "plt.ylabel('App Count')\n",
    "plt.show()\n",
    "\n",
    "# Value counts\n",
    "df['Free'].value_counts()\n"
   ]
  },
  {
   "cell_type": "markdown",
   "id": "0b6087dc",
   "metadata": {},
   "source": [
    "### **Average User Rating**\n",
    "\n",
    "The `Average_User_Rating` column shows the average rating given by users on a scale from 0 to 5. We'll analyze its distribution to understand overall user satisfaction.\n"
   ]
  },
  {
   "cell_type": "code",
   "execution_count": null,
   "id": "e8712a19",
   "metadata": {},
   "outputs": [],
   "source": [
    "# Histogram of user ratings\n",
    "plt.figure(figsize=(10, 5))\n",
    "sns.histplot(df['Average_User_Rating'], bins=10, kde=True)\n",
    "plt.title('Distribution of Average User Ratings')\n",
    "plt.xlabel('Average Rating')\n",
    "plt.ylabel('Number of Apps')\n",
    "plt.show()\n",
    "\n",
    "# Descriptive stats\n",
    "print(df['Average_User_Rating'].describe())\n"
   ]
  },
  {
   "cell_type": "markdown",
   "id": "0ab92c8d",
   "metadata": {},
   "source": [
    "### **Check how many apps have 0 rating**"
   ]
  },
  {
   "cell_type": "code",
   "execution_count": null,
   "id": "5910736d",
   "metadata": {},
   "outputs": [],
   "source": [
    "(df['Average_User_Rating'] == 0).sum()\n"
   ]
  },
  {
   "cell_type": "markdown",
   "id": "7e45ebca",
   "metadata": {},
   "source": [
    "### **Compare zero-rated apps with total**"
   ]
  },
  {
   "cell_type": "code",
   "execution_count": null,
   "id": "fbaa565a",
   "metadata": {},
   "outputs": [],
   "source": [
    "(df['Average_User_Rating'] == 0).mean() * 100  # percentage\n"
   ]
  },
  {
   "cell_type": "markdown",
   "id": "32ae2c2a",
   "metadata": {},
   "source": [
    "### **Observations: Average User Rating**\n",
    "\n",
    "More than 55% of the apps have an average user rating of 0.0. This likely indicates that these apps have not been rated by users yet. For analysis, we may either exclude these apps from certain rating-based insights or treat them separately to avoid skewing the results.\n"
   ]
  },
  {
   "cell_type": "code",
   "execution_count": null,
   "id": "aa5dd128",
   "metadata": {},
   "outputs": [],
   "source": [
    "df['Average_User_Rating'].isnull().sum()  # check for NaN values"
   ]
  },
  {
   "cell_type": "markdown",
   "id": "f3e2c53f",
   "metadata": {},
   "source": [
    "### **Average User Rating (Non-Zero Only)**\n",
    "\n",
    "Since over half of the apps have a user rating of 0.0, we will analyze only those apps that have received at least one rating. This helps us focus on genuine user feedback and avoid skewing the overall rating distribution.\n"
   ]
  },
  {
   "cell_type": "code",
   "execution_count": null,
   "id": "8fef35d0",
   "metadata": {},
   "outputs": [],
   "source": [
    "# Filter out zero ratings\n",
    "rated_apps = df[df['Average_User_Rating'] > 0]\n",
    "\n",
    "# Summary statistics\n",
    "print(rated_apps['Average_User_Rating'].describe())\n",
    "\n",
    "# Visualize with histogram\n",
    "plt.figure(figsize=(8, 4))\n",
    "sns.histplot(rated_apps['Average_User_Rating'], bins=20, kde=True, color='skyblue')\n",
    "plt.title('Distribution of Average User Ratings (Non-Zero Only)')\n",
    "plt.xlabel('Average User Rating')\n",
    "plt.ylabel('Number of Apps')\n",
    "plt.show()\n"
   ]
  },
  {
   "cell_type": "markdown",
   "id": "c2e5c683",
   "metadata": {},
   "source": [
    "## **Reviews**\n",
    "\n",
    "The `Reviews` column tells how many users reviewed the app. Let's explore the spread of review counts to see which apps are getting more attention.\n"
   ]
  },
  {
   "cell_type": "code",
   "execution_count": null,
   "id": "a9a68fa0",
   "metadata": {},
   "outputs": [],
   "source": [
    "# Histogram of reviews (log scale for better visualization)\n",
    "plt.figure(figsize=(10, 5))\n",
    "sns.histplot(df['Reviews'], bins=50, kde=True, log_scale=(True, False))\n",
    "plt.title('Distribution of Review Counts (Log Scale)')\n",
    "plt.xlabel('Number of Reviews')\n",
    "plt.ylabel('Number of Apps')\n",
    "plt.show()\n",
    "\n",
    "# Descriptive stats\n",
    "print(df['Reviews'].describe())\n"
   ]
  },
  {
   "cell_type": "markdown",
   "id": "b1755c27",
   "metadata": {},
   "source": [
    "### **Reviews**\n",
    "\n",
    "The `Reviews` column represents the number of user reviews each app has received. Upon inspecting the distribution, we observed that the majority of apps have very few or no reviews at all. In fact, both the 25th percentile and the median are `0`, indicating that over 50% of apps have not received any user reviews.\n",
    "\n",
    "To handle this heavily skewed distribution and improve visualization, we applied a log transformation using `log1p` (log(1 + Reviews)). This method retains zero values while scaling down extremely large numbers, making the data more suitable for further analysis and plotting.\n"
   ]
  },
  {
   "cell_type": "code",
   "execution_count": null,
   "id": "50b9c55e",
   "metadata": {},
   "outputs": [],
   "source": [
    "# Create a log-transformed version of the Reviews column\n",
    "df['Log_Reviews'] = np.log1p(df['Reviews'])\n",
    "\n",
    "# Visualize the transformed distribution\n",
    "plt.figure(figsize=(10, 5))\n",
    "sns.histplot(df['Log_Reviews'], bins=50, kde=True, color='skyblue')\n",
    "plt.title('Distribution of Log-Transformed Reviews')\n",
    "plt.xlabel('Log(1 + Reviews)')\n",
    "plt.ylabel('Number of Apps')\n",
    "plt.show()\n",
    "\n",
    "# Check summary of new column\n",
    "print(df['Log_Reviews'].describe())\n"
   ]
  },
  {
   "cell_type": "markdown",
   "id": "ef2c4284",
   "metadata": {},
   "source": [
    "### **Log-Transformed Reviews**\n",
    "\n",
    "After applying log transformation to the `Reviews` column, we observed that the distribution is still skewed, but now more interpretable. \n",
    "\n",
    "- Most apps still have zero reviews (25th and 50th percentiles are 0).\n",
    "- The 75th percentile is approximately 1.38 (which is log(4)).\n",
    "- The maximum is around 16.93 (which is log(23 million)).\n",
    "\n",
    "This transformation helps compress the extreme values, making it easier to analyze apps with varying review counts while preserving the zero-review entries.\n"
   ]
  },
  {
   "cell_type": "markdown",
   "id": "dccbb9b0",
   "metadata": {},
   "source": [
    "### **Current Version Score**\n",
    "\n",
    "This column shows the average rating of the app’s latest version, rated by users. The values range from 0 to 5.\n",
    "\n",
    "We will check its distribution and basic statistics to understand how most app versions are rated.\n"
   ]
  },
  {
   "cell_type": "code",
   "execution_count": null,
   "id": "25eac499",
   "metadata": {},
   "outputs": [],
   "source": [
    "# Histogram of Current Version Score\n",
    "plt.figure(figsize=(8, 4))\n",
    "sns.histplot(df['Current_Version_Score'], bins=20, kde=True)\n",
    "plt.title('Distribution of Current Version Score')\n",
    "plt.xlabel('Current_Version_Score')\n",
    "plt.ylabel('Number of Apps')\n",
    "plt.show()\n",
    "\n",
    "# Descriptive stats\n",
    "print(df['Current_Version_Score'].describe())\n"
   ]
  },
  {
   "cell_type": "markdown",
   "id": "099c88d4",
   "metadata": {},
   "source": [
    "### **Current Version Reviews**\n",
    "\n",
    "This column shows how many users reviewed the current version of each app. The range is wide and might include extreme outliers. Many apps have zero reviews.\n",
    "\n",
    "We will apply a log transformation to make the review counts easier to analyze.\n"
   ]
  },
  {
   "cell_type": "code",
   "execution_count": null,
   "id": "0cb2bafc",
   "metadata": {},
   "outputs": [],
   "source": [
    "# Log-transform for skewed review count\n",
    "df['Log_Current_Version_Reviews'] = np.log1p(df['Current_Version_Reviews'])\n",
    "\n",
    "# Histogram of log-transformed reviews\n",
    "plt.figure(figsize=(8, 4))\n",
    "sns.histplot(df['Log_Current_Version_Reviews'], bins=50, kde=True)\n",
    "plt.title('Log Distribution of Current Version Reviews')\n",
    "plt.xlabel('Log(Current_Version_Reviews)')\n",
    "plt.ylabel('Number of Apps')\n",
    "plt.show()\n",
    "\n",
    "# Descriptive stats\n",
    "print(df['Log_Current_Version_Reviews'].describe())\n"
   ]
  },
  {
   "cell_type": "markdown",
   "id": "2f1bb44e",
   "metadata": {},
   "source": [
    "## **Normality Check of Numerical Features**\n",
    "\n",
    "Before applying advanced statistical or machine learning techniques, it's important to understand the distribution of numerical variables. Here, we assess the normality of selected features like `Price`, `Size_Bytes`, and `Reviews`.\n",
    "\n",
    "For each feature:\n",
    "- A histogram is plotted to visualize the distribution.\n",
    "- A normal distribution curve (based on mean and standard deviation) is overlaid.\n",
    "- This helps identify skewness, extreme peaks, or heavy tails in the data.\n",
    "\n",
    "Large deviations from normality may suggest the need for transformations (like log-scaling) or robust models.\n"
   ]
  },
  {
   "cell_type": "code",
   "execution_count": null,
   "id": "a2bd8dd5",
   "metadata": {},
   "outputs": [],
   "source": [
    "# import scipy for statistical functions\n",
    "from scipy import stats\n",
    "\n",
    "num_cols = ['Price', 'Size_Bytes', 'Reviews']  # pehle 3 columns hi lo\n",
    "for col in num_cols:\n",
    "    plt.figure(figsize=(6, 4))\n",
    "    sns.histplot(df[col], bins=50, kde=True, stat=\"density\")\n",
    "    mean = df[col].mean()\n",
    "    std = df[col].std()\n",
    "    xmin, xmax = plt.xlim()\n",
    "    x = np.linspace(xmin, xmax, 100)\n",
    "    p = stats.norm.pdf(x, mean, std)\n",
    "    plt.plot(x, p, 'k', linewidth=2)\n",
    "    plt.title(f'Normality Check: {col}')\n",
    "    plt.xlabel(col)\n",
    "    plt.ylabel('Density')\n",
    "    plt.show()"
   ]
  },
  {
   "cell_type": "markdown",
   "id": "0d8178b4",
   "metadata": {},
   "source": [
    "Below we visualize:\n",
    "- `Current_Version_Score`\n",
    "- `Current_Version_Reviews`\n",
    "- `Average_User_Rating`"
   ]
  },
  {
   "cell_type": "code",
   "execution_count": null,
   "id": "429c8efb",
   "metadata": {},
   "outputs": [],
   "source": [
    "\n",
    "# List of columns to check\n",
    "columns = ['Current_Version_Score', 'Current_Version_Reviews', 'Average_User_Rating']\n",
    "\n",
    "# Plot normality check for each\n",
    "for col in columns:\n",
    "    plt.figure(figsize=(8, 4))\n",
    "    sns.histplot(df[col], bins=50, kde=True, stat=\"density\", color='skyblue', edgecolor='black')\n",
    "\n",
    "    # Overlay normal distribution\n",
    "    mean = df[col].mean()\n",
    "    std = df[col].std()\n",
    "    xmin, xmax = plt.xlim()\n",
    "    x = np.linspace(xmin, xmax, 100)\n",
    "    p = stats.norm.pdf(x, mean, std)\n",
    "    plt.plot(x, p, 'r', linewidth=2)\n",
    "\n",
    "    plt.title(f'Normality Check: {col}')\n",
    "    plt.xlabel(col)\n",
    "    plt.ylabel('Density')\n",
    "    plt.grid(True)\n",
    "    plt.tight_layout()\n",
    "    plt.show()"
   ]
  },
  {
   "cell_type": "markdown",
   "id": "1def52e0",
   "metadata": {},
   "source": [
    "## **Bivariate Analysis**\n",
    "\n",
    "In this section, we analyze the relationship between two variables to discover possible patterns, trends, or correlations. This helps in understanding how one feature might influence or relate to another, especially between numerical and categorical variables like Price, Reviews, Ratings, etc.\n"
   ]
  },
  {
   "cell_type": "markdown",
   "id": "22289184",
   "metadata": {},
   "source": [
    "### **Price vs. Average User Rating**\n",
    "This analysis helps us understand whether paid apps tend to get higher or lower ratings compared to free ones."
   ]
  },
  {
   "cell_type": "code",
   "execution_count": null,
   "id": "f1fa04b3",
   "metadata": {},
   "outputs": [],
   "source": [
    "plt.figure(figsize=(10, 5))\n",
    "sns.scatterplot(data=df, x='Price', y='Average_User_Rating', alpha=0.3)\n",
    "plt.title('Price vs Average User Rating')\n",
    "plt.xlabel('Price ($)')\n",
    "plt.ylabel('Average User Rating')\n",
    "plt.show()\n"
   ]
  },
  {
   "cell_type": "markdown",
   "id": "1ae95a29",
   "metadata": {},
   "source": [
    "### **Price vs Reviews**\n",
    "We examine whether higher-priced apps tend to receive more or fewer user reviews."
   ]
  },
  {
   "cell_type": "code",
   "execution_count": null,
   "id": "0fd8b7c4",
   "metadata": {},
   "outputs": [],
   "source": [
    "plt.figure(figsize=(10, 5))\n",
    "sns.scatterplot(data=df, x='Price', y='Reviews', alpha=0.3)\n",
    "plt.title('Price vs Number of Reviews')\n",
    "plt.xlabel('Price ($)')\n",
    "plt.ylabel('Reviews')\n",
    "plt.yscale('log')\n",
    "plt.show()\n"
   ]
  },
  {
   "cell_type": "markdown",
   "id": "81cab8e0",
   "metadata": {},
   "source": [
    "### **Price vs Current_Version_Score**\n",
    "This helps analyze if pricing has any relationship with how well users rate the current version of the app."
   ]
  },
  {
   "cell_type": "code",
   "execution_count": null,
   "id": "7129133d",
   "metadata": {},
   "outputs": [],
   "source": [
    "plt.figure(figsize=(10, 5))\n",
    "sns.scatterplot(data=df, x='Price', y='Current_Version_Score', alpha=0.3)\n",
    "plt.title('Price vs Current Version Score')\n",
    "plt.xlabel('Price ($)')\n",
    "plt.ylabel('Current Version Score')\n",
    "plt.show()\n"
   ]
  },
  {
   "cell_type": "markdown",
   "id": "3dbc7ceb",
   "metadata": {},
   "source": [
    "### **Size_Bytes vs Average_User_Rating**\n",
    "We check if app size has any relationship with user ratings."
   ]
  },
  {
   "cell_type": "code",
   "execution_count": null,
   "id": "8c3677f0",
   "metadata": {},
   "outputs": [],
   "source": [
    "plt.figure(figsize=(10, 5))\n",
    "sns.scatterplot(data=df, x='Size_Bytes', y='Average_User_Rating', alpha=0.3)\n",
    "plt.title('App Size vs Average User Rating')\n",
    "plt.xlabel('Size (in Bytes)')\n",
    "plt.ylabel('Average User Rating')\n",
    "plt.xscale('log')\n",
    "plt.show()\n"
   ]
  },
  {
   "cell_type": "markdown",
   "id": "ece0e9e0",
   "metadata": {},
   "source": [
    "### **Reviews vs Average_User_Rating**\n",
    "Helps us understand if popular apps (with more reviews) are rated higher or not."
   ]
  },
  {
   "cell_type": "code",
   "execution_count": null,
   "id": "49dad218",
   "metadata": {},
   "outputs": [],
   "source": [
    "plt.figure(figsize=(10, 5))\n",
    "sns.scatterplot(data=df, x='Reviews', y='Average_User_Rating', alpha=0.3)\n",
    "plt.title('Reviews vs Average User Rating')\n",
    "plt.xlabel('Reviews')\n",
    "plt.ylabel('Average User Rating')\n",
    "plt.xscale('log')\n",
    "plt.show()\n"
   ]
  },
  {
   "cell_type": "markdown",
   "id": "baad5fef",
   "metadata": {},
   "source": [
    "### **Current_Version_Score vs Current_Version_Reviews**\n",
    "We check whether more recent versions with more reviews tend to get better scores."
   ]
  },
  {
   "cell_type": "code",
   "execution_count": null,
   "id": "f1fb776d",
   "metadata": {},
   "outputs": [],
   "source": [
    "plt.figure(figsize=(10, 5))\n",
    "sns.scatterplot(data=df, x='Current_Version_Reviews', y='Current_Version_Score', alpha=0.3)\n",
    "plt.title('Current Version Reviews vs Score')\n",
    "plt.xlabel('Current Version Reviews')\n",
    "plt.ylabel('Current Version Score')\n",
    "plt.xscale('log')\n",
    "plt.show()\n"
   ]
  },
  {
   "cell_type": "markdown",
   "id": "3a8e1b4c",
   "metadata": {},
   "source": [
    "### **Reviews vs Current_Version_Reviews**\n",
    "This helps see if current version reviews are proportional to total reviews."
   ]
  },
  {
   "cell_type": "code",
   "execution_count": null,
   "id": "47ebfe71",
   "metadata": {},
   "outputs": [],
   "source": [
    "plt.figure(figsize=(10, 5))\n",
    "sns.scatterplot(data=df, x='Reviews', y='Current_Version_Reviews', alpha=0.3)\n",
    "plt.title('Total Reviews vs Current Version Reviews')\n",
    "plt.xlabel('Total Reviews')\n",
    "plt.ylabel('Current Version Reviews')\n",
    "plt.xscale('log')\n",
    "plt.yscale('log')\n",
    "plt.show()\n"
   ]
  },
  {
   "cell_type": "markdown",
   "id": "7241956e",
   "metadata": {},
   "source": [
    "### **Average_User_Rating vs Current_Version_Score**\n",
    "Helps assess consistency between overall and current version ratings."
   ]
  },
  {
   "cell_type": "code",
   "execution_count": null,
   "id": "36bc7751",
   "metadata": {},
   "outputs": [],
   "source": [
    "plt.figure(figsize=(10, 5))\n",
    "sns.scatterplot(data=df, x='Average_User_Rating', y='Current_Version_Score', alpha=0.3)\n",
    "plt.title('Overall vs Current Version Rating')\n",
    "plt.xlabel('Average User Rating')\n",
    "plt.ylabel('Current Version Score')\n",
    "plt.show()\n"
   ]
  },
  {
   "cell_type": "markdown",
   "id": "543913ce",
   "metadata": {},
   "source": [
    "## **Multivariate Analysis: Ratings by Genre and App Type**\n",
    "In this chart, we compare the average user rating for each genre based on whether the app is free or paid. This helps identify how pricing might influence user satisfaction across different categories."
   ]
  },
  {
   "cell_type": "code",
   "execution_count": null,
   "id": "80048924",
   "metadata": {},
   "outputs": [],
   "source": [
    "plt.figure(figsize=(14, 6))\n",
    "sns.barplot(data=df, x='Primary_Genre', y='Average_User_Rating', hue='Free', ci=None)\n",
    "plt.xticks(rotation=45, ha='right')\n",
    "plt.title('Average User Rating by Genre and App Type (Free vs Paid)')\n",
    "plt.xlabel('App Genre')\n",
    "plt.ylabel('Average User Rating')\n",
    "plt.legend(title='Free App')\n",
    "plt.tight_layout()\n",
    "plt.show()\n"
   ]
  },
  {
   "cell_type": "markdown",
   "id": "c26fb28f",
   "metadata": {},
   "source": [
    "## **Multivariate Analysis: Price and Reviews vs User Ratings**\n",
    "This scatter plot shows how app price and number of reviews relate to user ratings. It can reveal if paid apps or popular apps get higher ratings."
   ]
  },
  {
   "cell_type": "code",
   "execution_count": null,
   "id": "f16886df",
   "metadata": {},
   "outputs": [],
   "source": [
    "plt.figure(figsize=(12, 6))\n",
    "sns.scatterplot(data=df[df['Price'] > 0], x='Price', y='Average_User_Rating',\n",
    "                size='Reviews', hue='Primary_Genre', alpha=0.6, legend=False)\n",
    "plt.title('Paid Apps: Price vs User Rating (Bubble Size = Reviews)')\n",
    "plt.xlabel('Price ($)')\n",
    "plt.ylabel('Average User Rating')\n",
    "plt.tight_layout()\n",
    "plt.show()\n"
   ]
  },
  {
   "cell_type": "markdown",
   "id": "2e6691ec",
   "metadata": {},
   "source": [
    "## **Top 10 Most Reviewed Apps (Unique)**\n",
    "We group the apps by name and pick the one with the highest number of reviews, ensuring each app appears only once.\n",
    "\n"
   ]
  },
  {
   "cell_type": "code",
   "execution_count": null,
   "id": "83702308",
   "metadata": {},
   "outputs": [],
   "source": [
    "# Drop duplicate app names keeping the one with highest reviews\n",
    "top_reviewed = df.sort_values('Reviews', ascending=False).drop_duplicates(subset='App_Name')\n",
    "\n",
    "# Select top 10 by reviews\n",
    "top_10_reviewed = top_reviewed[['App_Name', 'Reviews', 'Average_User_Rating']].head(10)\n",
    "print(\"Top 10 Apps by Reviews:\")\n",
    "print(top_10_reviewed)\n"
   ]
  },
  {
   "cell_type": "markdown",
   "id": "ee676bb9",
   "metadata": {},
   "source": [
    "## **Top 10 Highest Rated Apps (Unique)**\n",
    "We now select top-rated apps (minimum 50 reviews to avoid noise) and ensure no duplicates."
   ]
  },
  {
   "cell_type": "code",
   "execution_count": null,
   "id": "1321f5e8",
   "metadata": {},
   "outputs": [],
   "source": [
    "# Drop duplicate app names keeping the highest rated\n",
    "top_rated = df[df['Reviews'] >= 50].sort_values('Average_User_Rating', ascending=False).drop_duplicates(subset='App_Name')\n",
    "\n",
    "# Select top 10 by rating\n",
    "top_10_rated = top_rated[['App_Name', 'Average_User_Rating', 'Reviews']].head(10)\n",
    "print(\"Top 10 Apps by Average Rating (min 50 reviews):\")\n",
    "print(top_10_rated)\n"
   ]
  },
  {
   "cell_type": "markdown",
   "id": "2d1b2e4b",
   "metadata": {},
   "source": [
    "## **Top Rated App in Each Category**\n",
    "Here we group by category and pick the highest rated app per category."
   ]
  },
  {
   "cell_type": "code",
   "execution_count": null,
   "id": "0a938e07",
   "metadata": {},
   "outputs": [],
   "source": [
    "# Drop duplicates to get highest rated app per category\n",
    "top_category_apps = df[df['Reviews'] >= 50].sort_values('Average_User_Rating', ascending=False).drop_duplicates(subset='Primary_Genre')\n",
    "\n",
    "# Show relevant columns\n",
    "category_top = top_category_apps[['Primary_Genre', 'App_Name', 'Average_User_Rating', 'Reviews']].sort_values(by='Average_User_Rating', ascending=False)\n",
    "print(\"Top Rated Apps by Category:\")\n",
    "print(category_top.head(10))  # Show top 10 categories\n"
   ]
  },
  {
   "cell_type": "markdown",
   "id": "dac43a61",
   "metadata": {},
   "source": [
    "## **Correlation Between Numerical Features**\n",
    "We analyze how numeric columns like Ratings, Reviews, Size, and Price are related to each other."
   ]
  },
  {
   "cell_type": "code",
   "execution_count": null,
   "id": "445b0b80",
   "metadata": {},
   "outputs": [],
   "source": [
    "# Correlation matrix\n",
    "plt.figure(figsize=(10, 6))\n",
    "numeric_cols = ['Price', 'Size_Bytes', 'Average_User_Rating', 'Reviews', 'Current_Version_Score', 'Current_Version_Reviews']\n",
    "correlation_matrix = df[numeric_cols].corr()\n",
    "\n",
    "sns.heatmap(correlation_matrix, annot=True, cmap='coolwarm', fmt='.2f')\n",
    "plt.title('Correlation Matrix of Numeric Features')\n",
    "plt.show()\n"
   ]
  },
  {
   "cell_type": "markdown",
   "id": "ead4a88f",
   "metadata": {},
   "source": [
    "## **Correlation Matrix Analysis**\n",
    "\n",
    "The correlation matrix above highlights the relationships between key numeric features in the dataset. Here are the main observations:\n",
    "\n",
    "- Most feature pairs show **very weak correlation**, suggesting they behave independently.\n",
    "- `Size_Bytes` has a **slight positive correlation with Price** (0.13), meaning larger apps may cost more.\n",
    "- `Average_User_Rating` is **not strongly correlated** with Reviews or Price, implying that user satisfaction is not directly influenced by popularity or cost.\n",
    "- `Reviews`, `Current_Version_Reviews`, and `Current_Version_Score` show **noticeable alignment**, which makes sense since they all relate to user feedback.\n",
    "\n",
    "This indicates that each variable contributes uniquely and should be studied individually as well as in combination for deeper analysis.\n"
   ]
  },
  {
   "cell_type": "markdown",
   "id": "8cfa5732",
   "metadata": {},
   "source": [
    "## **Distribution of User Ratings**\n",
    "This plot shows how user ratings are spread across the dataset."
   ]
  },
  {
   "cell_type": "code",
   "execution_count": null,
   "id": "9a9668b8",
   "metadata": {},
   "outputs": [],
   "source": [
    "plt.figure(figsize=(8, 4))\n",
    "sns.histplot(df['Average_User_Rating'], bins=20, kde=True, color='skyblue')\n",
    "plt.title('Distribution of Average User Ratings')\n",
    "plt.xlabel('Rating')\n",
    "plt.ylabel('Count')\n",
    "plt.show()\n"
   ]
  },
  {
   "cell_type": "markdown",
   "id": "448517f1",
   "metadata": {},
   "source": [
    "## **Price Distribution of Paid Apps Only**\n",
    "This helps understand how paid app prices are spread."
   ]
  },
  {
   "cell_type": "code",
   "execution_count": null,
   "id": "962715e8",
   "metadata": {},
   "outputs": [],
   "source": [
    "plt.figure(figsize=(8, 4))\n",
    "sns.histplot(df[df['Free'] == False]['Price'], bins=30, color='orange', kde=True)\n",
    "plt.title('Price Distribution of Paid Apps')\n",
    "plt.xlabel('Price ($)')\n",
    "plt.ylabel('Count')\n",
    "plt.show()\n"
   ]
  },
  {
   "cell_type": "markdown",
   "id": "68a9673b",
   "metadata": {},
   "source": [
    "## **Top Categories by App Count**\n",
    "Which genres have the most apps?"
   ]
  },
  {
   "cell_type": "code",
   "execution_count": null,
   "id": "9f1a7c75",
   "metadata": {},
   "outputs": [],
   "source": [
    "top_categories = df['Primary_Genre'].value_counts().head(10)\n",
    "\n",
    "plt.figure(figsize=(10, 5))\n",
    "sns.barplot(x=top_categories.index, y=top_categories.values, palette='viridis')\n",
    "plt.title('Top 10 App Categories by Number of Apps')\n",
    "plt.ylabel('Number of Apps')\n",
    "plt.xlabel('Category')\n",
    "plt.xticks(rotation=45)\n",
    "plt.show()\n"
   ]
  },
  {
   "cell_type": "markdown",
   "id": "9d40aad9",
   "metadata": {},
   "source": [
    "## **Average Rating by Category (Bar Plot)**"
   ]
  },
  {
   "cell_type": "code",
   "execution_count": null,
   "id": "e3366bbd",
   "metadata": {},
   "outputs": [],
   "source": [
    "avg_rating_by_genre = df.groupby('Primary_Genre')['Average_User_Rating'].mean().sort_values(ascending=False).head(10)\n",
    "\n",
    "plt.figure(figsize=(10, 5))\n",
    "sns.barplot(x=avg_rating_by_genre.index, y=avg_rating_by_genre.values, palette='magma')\n",
    "plt.title('Top 10 Categories by Average User Rating')\n",
    "plt.ylabel('Average Rating')\n",
    "plt.xlabel('Category')\n",
    "plt.xticks(rotation=45)\n",
    "plt.show()\n"
   ]
  },
  {
   "cell_type": "markdown",
   "id": "d0234834",
   "metadata": {},
   "source": [
    "## **Insights from Ratings and Review Trends**\n",
    "\n",
    "### **High Ratings with Low Reviews**\n",
    "Some apps received a perfect **5.0 rating** but had only **50 to 100 reviews**. This indicates early-stage or low-traffic apps that performed well with a small audience.\n",
    "\n",
    "### **Stable Ratings with High Reviews**\n",
    "Apps with **millions of reviews** generally had ratings between **4.6 and 4.9**, suggesting consistent user satisfaction over time.\n",
    "\n",
    "### **Dominant Categories Among Top Apps**\n",
    "The most common categories among top-rated or most-reviewed apps were **Games**, **Entertainment**, and **Social Networking**. However, **Education**, **Business**, and **Shopping** also appeared, showing wide interest across different app types.\n",
    "\n",
    "### **Review Counts and Free Apps**\n",
    "All of the top 10 most-reviewed apps were **free**. Free apps tend to get more downloads, which naturally results in a higher number of reviews.\n",
    "\n",
    "### **Price Impact on Ratings**\n",
    "There was no strong correlation between **price and user ratings**. Most highly rated apps were either **free** or very affordable (like $0.99). This suggests users might have higher expectations from paid apps and rate them more critically.\n"
   ]
  },
  {
   "cell_type": "markdown",
   "id": "e7646e7d",
   "metadata": {},
   "source": [
    "## **Final Thoughts and Summary**\n",
    "\n",
    "This analysis gave us valuable insights into the Apple App Store dataset, highlighting patterns across app ratings, review counts, pricing, and categories. We observed that free apps tend to attract more users and reviews, while user ratings remain a reliable metric for gauging app quality. Although pricing had little correlation with ratings, it influenced download volume. By combining univariate, bivariate, and multivariate techniques, we now have a strong foundation for predictive modeling, business strategy, or deeper machine learning tasks going forward.\n"
   ]
  }
 ],
 "metadata": {
  "kernelspec": {
   "display_name": "python_eda",
   "language": "python",
   "name": "python3"
  },
  "language_info": {
   "codemirror_mode": {
    "name": "ipython",
    "version": 3
   },
   "file_extension": ".py",
   "mimetype": "text/x-python",
   "name": "python",
   "nbconvert_exporter": "python",
   "pygments_lexer": "ipython3",
   "version": "3.13.2"
  }
 },
 "nbformat": 4,
 "nbformat_minor": 5
}
